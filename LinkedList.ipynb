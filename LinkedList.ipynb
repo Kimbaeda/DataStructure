{
  "nbformat": 4,
  "nbformat_minor": 0,
  "metadata": {
    "colab": {
      "name": "LinkedList.ipynb",
      "provenance": [],
      "collapsed_sections": [],
      "authorship_tag": "ABX9TyMSK1QG/M3cO1icusgfS1C6",
      "include_colab_link": true
    },
    "kernelspec": {
      "name": "python3",
      "display_name": "Python 3"
    },
    "language_info": {
      "name": "python"
    }
  },
  "cells": [
    {
      "cell_type": "markdown",
      "metadata": {
        "id": "view-in-github",
        "colab_type": "text"
      },
      "source": [
        "<a href=\"https://colab.research.google.com/github/Kimbaeda/DataStructure/blob/main/LinkedList.ipynb\" target=\"_parent\"><img src=\"https://colab.research.google.com/assets/colab-badge.svg\" alt=\"Open In Colab\"/></a>"
      ]
    },
    {
      "cell_type": "code",
      "execution_count": 1,
      "metadata": {
        "id": "t0Kw1HRLj7tJ"
      },
      "outputs": [],
      "source": [
        "class Node:\n",
        "  def __init__(self, data, next=None):\n",
        "      '''인스턴스 변수들의 초기값'''\n",
        "      self.data = data  # 노드 저장 데이터\n",
        "      self.next = next  # 다음 노드에 대한 레퍼런스"
      ]
    },
    {
      "cell_type": "code",
      "source": [
        "# 데이를 담은 노드 생성\n",
        "head_node = Node(2)\n",
        "node_1 = Node(5)\n",
        "node_2 = Node(6)\n",
        "node_3 = Node(9)\n",
        "tail_node = Node(10)"
      ],
      "metadata": {
        "id": "DxW7WM8JkGvT"
      },
      "execution_count": 2,
      "outputs": []
    },
    {
      "cell_type": "code",
      "source": [
        "# 노드 연결\n",
        "head_node.next = node_1\n",
        "node_1.next = node_2\n",
        "node_2.next = node_3\n",
        "node_3.next = tail_node"
      ],
      "metadata": {
        "id": "gZrvcewvvd3i"
      },
      "execution_count": 3,
      "outputs": []
    },
    {
      "cell_type": "code",
      "source": [
        "# 노드 출력\n",
        "iterator = head_node\n",
        "while iterator is not None:\n",
        "  print(iterator.data)\n",
        "  iterator = iterator.next"
      ],
      "metadata": {
        "colab": {
          "base_uri": "https://localhost:8080/"
        },
        "id": "e8Ba3-M-vuEi",
        "outputId": "adb9b5c3-2617-4edb-8441-4349bd1f8585"
      },
      "execution_count": 4,
      "outputs": [
        {
          "output_type": "stream",
          "name": "stdout",
          "text": [
            "2\n",
            "5\n",
            "6\n",
            "9\n",
            "10\n"
          ]
        }
      ]
    },
    {
      "cell_type": "code",
      "source": [
        "class LinkedList:\n",
        "  def __init__(self):\n",
        "      self.head = None\n",
        "      self.tail = None\n",
        "\n",
        "  # 클래스를 생성할 때 해당 클래스의 정보를 출력하기 위해 또는 표현하고자 하는 내용은\n",
        "  # __str__과 __repr__을 통해 정의\n",
        "  def __str__(self) -> str:\n",
        "      res_str = \"|\"\n",
        "\n",
        "      iterator = self.head\n",
        "      while iterator is not None:\n",
        "        res_str += f\" {iterator.data} |\"\n",
        "        iterator = iterator.next\n",
        "      if res_str == \"|\": return str(None)\n",
        "      return res_str\n",
        "  # __repr__  list,set,tuple 같은 arr에 담았을때 내용을 출력하기위해 정의\n",
        "  # 정의 하지 않는다면 메모리 주소값이 출력된다.\n",
        "  def __repr__(self) -> str:                  \n",
        "      res_str = \"|\"\n",
        "\n",
        "      iterator = self.head\n",
        "      while iterator is not None:\n",
        "        res_str += f\" {iterator.data} |\"\n",
        "        iterator = iterator.next\n",
        "      if res_str == \"|\": return str(None)\n",
        "      return res_str  \n",
        "  def append(self, data):\n",
        "    '''\n",
        "    링크드 리스트 추가 메소드\n",
        "    '''\n",
        "    # 새로운 링크드 리스트 노드 생성\n",
        "    new_node = Node(data)\n",
        "    if self.head is None:               # 링크드 리스트가 비어있는 경우\n",
        "      self.head = new_node              \n",
        "      self.tail = new_node\n",
        "    else:                               # 링크드 리스트가 비어있지 않은경우\n",
        "      self.tail.next = new_node         # 기존 tail의 next를 생성한 노드와 연결\n",
        "      self.tail = new_node              # tail을 생성한 노드로 변경\n",
        "  # 접근 연산자\n",
        "  def find_node_in_index(self, index: int):\n",
        "    '''링크드 리스트 index 노드 find'''\n",
        "    iterator = self.head\n",
        "    try:\n",
        "      for _ in range(index):            # index x 노드에 접근시 head에서 x번 이동\n",
        "        iterator = iterator.next        # 찾고자 하는 index까지 for문을 돌림\n",
        "    except Exception as e:\n",
        "      if str(e) == \"'NoneType' object has no attribute 'next'\":\n",
        "        print(\"Node index of range error\")\n",
        "    \n",
        "    return iterator\n",
        "  #region 삽입 연산 \n",
        "  def insert_after(self, target_node_index: int, data):\n",
        "    '''링크드 리스트 주어진 노드 뒤 삽입 연산 (append와 차이는 기준을 정할 수 있음)'''\n",
        "    new_node = Node(data)\n",
        "    target_node = self.find_node_in_index(target_node_index)        # target_node 확인\n",
        "    # tail node 다음에 삽입 (가장 끝에 추가)\n",
        "    if self.tail is target_node:                                    # tail이 타겟일때\n",
        "      self.tail.next = new_node                                     # 해당 tail의 다음은 new_node\n",
        "    # 두 노드 사이에 삽입시\n",
        "    else:\n",
        "      # 삽입할 노드의 다음부터 설정\n",
        "      new_node.next = target_node.next\n",
        "      # 타겟 노드의 다음을 삽입할 노드로 설정\n",
        "      target_node.next = new_node\n",
        "\n",
        "  def prepend(self, data):\n",
        "    '''링크드 리스트의 가장 앞 데이터 삽입'''\n",
        "    new_node = Node(data)\n",
        "    if self.head is None:                 # 길이가 0일때 추가시 tail, head 설정\n",
        "      self.head = new_node\n",
        "      self.tail = new_node\n",
        "    else:                                 # 값이 있을경우 삽입할 노드의 next를 기존 head로 설정 이후 삽입 데이터를 head로 \n",
        "      new_node.next = self.head\n",
        "      self.head = new_node\n",
        "  #endregion\n",
        "\n",
        "  #region 삭제 연산\n",
        "  def pop_left(self):\n",
        "    '''head 노드를 삭제'''\n",
        "    data = self.head.data\n",
        "    if self.head is self.tail:            # Linked List에 노드가 하나만 있을때\n",
        "      self.head = None\n",
        "      self.tail = None\n",
        "    else:\n",
        "      self.head = self.head.next\n",
        "\n",
        "  def delete_node(self, node_index):\n",
        "    '''링크드 리스트 삭제 연산, 입력된 index의 노드를 삭제 '''\n",
        "    data = self.find_node_in_index(node_index)\n",
        "    if data is self.head:                                       # 삭제할 노드가 head일때는 pop_left()\n",
        "      self.pop_left()\n",
        "    elif data is self.tail:                                     # 삭제할 노드가 tail 일때\n",
        "      self.tail = self.find_node_in_index(node_index - 1)\n",
        "      data.next = None\n",
        "    else:                                                       # 전 노드의 next를 삭제할 노드의 다음 노드로 지정\n",
        "      self.find_node_in_index(node_index - 1).next = data.next\n",
        "  #endregion"
      ],
      "metadata": {
        "id": "uICq0a-_wBFC"
      },
      "execution_count": 5,
      "outputs": []
    },
    {
      "cell_type": "code",
      "source": [
        "first_list = LinkedList()\n",
        "\n",
        "first_list.append(2)\n",
        "first_list.append(5)\n",
        "first_list.append(6)\n",
        "first_list.append(9)\n",
        "first_list.append(10)\n",
        "\n",
        "print(first_list)\n",
        "print([first_list, first_list])"
      ],
      "metadata": {
        "colab": {
          "base_uri": "https://localhost:8080/"
        },
        "id": "AHBrhxS_x7GT",
        "outputId": "9e4ebd80-188c-4ae9-ae5a-67dec3fc5413"
      },
      "execution_count": 6,
      "outputs": [
        {
          "output_type": "stream",
          "name": "stdout",
          "text": [
            "| 2 | 5 | 6 | 9 | 10 |\n",
            "[| 2 | 5 | 6 | 9 | 10 |, | 2 | 5 | 6 | 9 | 10 |]\n"
          ]
        }
      ]
    },
    {
      "cell_type": "code",
      "source": [
        "print(first_list.find_node_in_index(15))\n",
        "print(first_list)"
      ],
      "metadata": {
        "colab": {
          "base_uri": "https://localhost:8080/"
        },
        "id": "vYOR6rQfyL4J",
        "outputId": "56f56974-78aa-43e5-bf06-ea788131ffa0"
      },
      "execution_count": 7,
      "outputs": [
        {
          "output_type": "stream",
          "name": "stdout",
          "text": [
            "Node index of range error\n",
            "None\n",
            "| 2 | 5 | 6 | 9 | 10 |\n"
          ]
        }
      ]
    },
    {
      "cell_type": "code",
      "source": [
        "print(first_list)\n",
        "first_list.insert_after(3, 12)\n",
        "print(first_list)\n",
        "first_list.prepend(11)\n",
        "print(first_list)\n",
        "first_list.prepend(5)\n",
        "print(first_list)"
      ],
      "metadata": {
        "colab": {
          "base_uri": "https://localhost:8080/"
        },
        "id": "sujVVlVK5keG",
        "outputId": "feb9cc62-5fbf-4fa8-ccc3-67e7b9947d69"
      },
      "execution_count": 8,
      "outputs": [
        {
          "output_type": "stream",
          "name": "stdout",
          "text": [
            "| 2 | 5 | 6 | 9 | 10 |\n",
            "| 2 | 5 | 6 | 9 | 12 | 10 |\n",
            "| 11 | 2 | 5 | 6 | 9 | 12 | 10 |\n",
            "| 5 | 11 | 2 | 5 | 6 | 9 | 12 | 10 |\n"
          ]
        }
      ]
    },
    {
      "cell_type": "code",
      "source": [
        "print(first_list)\n",
        "first_list.delete_node(2)\n",
        "print(first_list)"
      ],
      "metadata": {
        "colab": {
          "base_uri": "https://localhost:8080/"
        },
        "id": "ayzAJSeeeuJE",
        "outputId": "5ef1679e-82be-41d7-8096-2d8372844b57"
      },
      "execution_count": 9,
      "outputs": [
        {
          "output_type": "stream",
          "name": "stdout",
          "text": [
            "| 5 | 11 | 2 | 5 | 6 | 9 | 12 | 10 |\n",
            "| 5 | 11 | 5 | 6 | 9 | 12 | 10 |\n"
          ]
        }
      ]
    },
    {
      "cell_type": "code",
      "source": [
        "print(first_list)\n",
        "first_list.pop_left()\n",
        "print(first_list)\n",
        "first_list.delete_node(0)\n",
        "print(first_list)"
      ],
      "metadata": {
        "colab": {
          "base_uri": "https://localhost:8080/"
        },
        "id": "ZV5AxSOhwNVW",
        "outputId": "011d395e-f17b-432e-d700-98a745b29721"
      },
      "execution_count": 10,
      "outputs": [
        {
          "output_type": "stream",
          "name": "stdout",
          "text": [
            "| 5 | 11 | 5 | 6 | 9 | 12 | 10 |\n",
            "| 11 | 5 | 6 | 9 | 12 | 10 |\n",
            "| 5 | 6 | 9 | 12 | 10 |\n"
          ]
        }
      ]
    },
    {
      "cell_type": "code",
      "source": [
        "first_list.delete_node(0)\n",
        "first_list.delete_node(0)\n",
        "first_list.delete_node(0)\n",
        "first_list.delete_node(0)\n",
        "first_list.delete_node(0)"
      ],
      "metadata": {
        "id": "95DqJSBSyhZi"
      },
      "execution_count": 11,
      "outputs": []
    },
    {
      "cell_type": "code",
      "source": [
        "print(first_list)"
      ],
      "metadata": {
        "colab": {
          "base_uri": "https://localhost:8080/"
        },
        "id": "hjw13di00wv8",
        "outputId": "ac3acd47-1918-4259-8e28-3e6644e900ef"
      },
      "execution_count": 12,
      "outputs": [
        {
          "output_type": "stream",
          "name": "stdout",
          "text": [
            "None\n"
          ]
        }
      ]
    },
    {
      "cell_type": "code",
      "source": [
        ""
      ],
      "metadata": {
        "id": "SeooKcYU00Ci"
      },
      "execution_count": 12,
      "outputs": []
    }
  ]
}